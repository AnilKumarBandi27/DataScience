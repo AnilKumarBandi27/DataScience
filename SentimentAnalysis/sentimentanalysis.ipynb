{
 "cells": [
  {
   "cell_type": "code",
   "execution_count": null,
   "metadata": {},
   "outputs": [],
   "source": [
    "from textblob import TextBlob\n",
    "import tweepy\n",
    "import re\n",
    "'''from API_tweeter import Consumer_Key,Consumer_Secret,Access_Token,Access_Token_Secret '''"
   ]
  },
  {
   "cell_type": "code",
   "execution_count": null,
   "metadata": {},
   "outputs": [],
   "source": [
    "consumerKey = '5cqOoITcUqADKxCNqLSaQcYJr'\n",
    "consumerSecret = 'DcsX3XD6X6zAtbUl6XUg4IGbv6LaGpal7e5lPtR0am6o0G1dwS'\n",
    "accessToken =  '1154341905922048000-OdyKGbYm4ImqTycrWd0Jtbc6MdapAQ'\n",
    "accessTokenSecret = 'Znq3znPZmLeXV25ZhYZi8hkxtTq3UzzCOteNd0N1TT7ng'\n"
   ]
  },
  {
   "cell_type": "code",
   "execution_count": null,
   "metadata": {},
   "outputs": [],
   "source": [
    "auth = tweepy.OAuthHandler(consumer_key=consumerKey,consumer_secret=consumerSecret)\n",
    "auth.set_access_token(key=accessToken,secret=accessTokenSecret)\n",
    "api = tweepy.API(auth,wait_on_rate_limit=True)\n"
   ]
  },
  {
   "cell_type": "code",
   "execution_count": null,
   "metadata": {},
   "outputs": [],
   "source": [
    "searchTerm = input(\"Enter the keyword/hastag to search :\")\n",
    "noOfTwites = int(input(\"Enter how many tweets to analyze: \"))"
   ]
  },
  {
   "cell_type": "code",
   "execution_count": null,
   "metadata": {},
   "outputs": [],
   "source": [
    "tweets = tweepy.Cursor(api.search,q=searchTerm+\" -rt\",lang = 'en',\n",
    "                       result_type=\"popular\",count = noOfTwites).items(noOfTwites)"
   ]
  },
  {
   "cell_type": "code",
   "execution_count": null,
   "metadata": {},
   "outputs": [],
   "source": [
    "for tweet in tweets:\n",
    "    remove_http_tweet = re.sub(r\"http\\S+\",\"\",tweet.text)\n",
    "    clean_tweet = \" \".join(re.findall(\"[a-zA-Z]+\",remove_http_tweet))\n",
    "    analysis = TextBlob(clean_tweet).sentiment.polarity\n",
    "    print(\"tweet\")\n",
    "    print(clean_tweet)\n",
    "    print(\"Sentiment\",analysis)\n",
    "    if analysis > 0:\n",
    "        print(\"Positive Tweet\")\n",
    "    elif analysis < 0:\n",
    "        print(\"Negitive Tweet\")\n",
    "    else:\n",
    "        print(\"Neutral Tweet\")    \n",
    "    print(20*\"==\")"
   ]
  }
 ],
 "metadata": {
  "kernelspec": {
   "display_name": "Python 3",
   "language": "python",
   "name": "python3"
  },
  "language_info": {
   "codemirror_mode": {
    "name": "ipython",
    "version": 3
   },
   "file_extension": ".py",
   "mimetype": "text/x-python",
   "name": "python",
   "nbconvert_exporter": "python",
   "pygments_lexer": "ipython3",
   "version": "3.6.7"
  }
 },
 "nbformat": 4,
 "nbformat_minor": 2
}
